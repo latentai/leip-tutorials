{
 "cells": [
  {
   "cell_type": "code",
   "execution_count": null,
   "metadata": {},
   "outputs": [],
   "source": [
    "from leip_recipe_designer import GoldenVolumes"
   ]
  },
  {
   "attachments": {},
   "cell_type": "markdown",
   "metadata": {},
   "source": [
    "## List the available Golden Volumes\n",
    "\n",
    "What is a Golden Volume? \n",
    "- A comprehensive collection of recipes trained on a specific dataset.\n",
    "- Evaluated on different hardwares.\n",
    "- Detailed metrics captured for all these recipes on different hardwares and in-framework. \n",
    "- Detailed dataset information captured in a report. \n",
    "\n",
    "Each Volume contains - \n",
    "- Dataset Info \n",
    "- Golden recipes (Dataframe)\n",
    "\n",
    "In the following few cells, you would see how to query different Golden Volumes Latent AI supports. (Continuously being added) It also displays information on a specific selected volume."
   ]
  },
  {
   "cell_type": "code",
   "execution_count": null,
   "metadata": {},
   "outputs": [],
   "source": [
    "goldenvolumes = GoldenVolumes()"
   ]
  },
  {
   "cell_type": "code",
   "execution_count": null,
   "metadata": {},
   "outputs": [],
   "source": [
    "volumes = goldenvolumes.list_volumes_from_zoo()"
   ]
  },
  {
   "attachments": {},
   "cell_type": "markdown",
   "metadata": {},
   "source": [
    "### Look through the available Golden Datasets and select the one closest to yours (Eg. bdd100k dataset)\n",
    "\n",
    "A summary of information about the dataset is shown in Jupyter Notebooks when the volume is placed as the last row in a cell as shown below. "
   ]
  },
  {
   "cell_type": "code",
   "execution_count": null,
   "metadata": {},
   "outputs": [],
   "source": [
    "volumes['bdd100k']"
   ]
  },
  {
   "cell_type": "markdown",
   "metadata": {},
   "source": [
    "The methods used to create the above report are also available individually. For example:\n",
    "\n",
    "- `volumes['bdd100k'].info` - returns a dictionary containing the summary info displayed on the \"Info\" tab.\n",
    "- `volumes['bdd100k'].get_samples(split='train')` - shows an random subset of samples.\n",
    "- `volumes['bdd100k'].boxes_info()` - A histogram of the number of bounding boxes for each image in the dataset.\n",
    "- `volumes['bdd100k'].anchor_boxes()` - Plots the mean intersection over union (IoU) per each anchor box group (small, medium and large).\n",
    "- `volumes['bdd100k'].class_distribution()` - Plots the mean intersection over union (IoU) per each anchor box group (small, medium and large).\n"
   ]
  },
  {
   "cell_type": "code",
   "execution_count": null,
   "metadata": {},
   "outputs": [],
   "source": [
    "volumes['bdd100k'].boxes_info()"
   ]
  },
  {
   "attachments": {},
   "cell_type": "markdown",
   "metadata": {},
   "source": [
    "### Get the Golden Recipe Data frame from the selected Golden Dataset"
   ]
  },
  {
   "attachments": {},
   "cell_type": "markdown",
   "metadata": {},
   "source": [
    "Now we will extract the second part of a golden volume. i.e. The Golden Recipes in a dataframe. \n",
    "- Get a dataframe of tested recipes and their performance on hardware for the selected dataset."
   ]
  },
  {
   "cell_type": "code",
   "execution_count": null,
   "metadata": {},
   "outputs": [],
   "source": [
    "df = volumes['bdd100k'].get_golden_df()\n",
    "df"
   ]
  },
  {
   "cell_type": "markdown",
   "metadata": {},
   "source": [
    "What do these columns mean? To see all the columns of this DataFrame and a brief description of their data use `.describe_table()`"
   ]
  },
  {
   "cell_type": "code",
   "execution_count": null,
   "metadata": {},
   "outputs": [],
   "source": [
    "volumes['bdd100k'].describe_table()"
   ]
  },
  {
   "attachments": {},
   "cell_type": "markdown",
   "metadata": {},
   "source": [
    "## Explore the Golden Recipe Dataframe to select the best recipes for your application/dataset"
   ]
  },
  {
   "attachments": {},
   "cell_type": "markdown",
   "metadata": {},
   "source": [
    "With all these recipes at your disposal, the following cells provides you with different tools to explore the dataframe according to your usecase. You can apply your Pandas skills to explore them. We share some examples below - "
   ]
  },
  {
   "cell_type": "code",
   "execution_count": null,
   "metadata": {},
   "outputs": [],
   "source": [
    "print('Number of recipes = ', len(df.index.get_level_values('id').unique()))"
   ]
  },
  {
   "cell_type": "code",
   "execution_count": null,
   "metadata": {},
   "outputs": [],
   "source": [
    "## Query recipes with 'Device specific metrics' for Yolo v8 model on ['cuda:A4500' and 'cuda:AGX-Orin].\n",
    "df.query(\"device in ['cuda:A4500', 'cuda:AGX-Orin'] and model_family=='Yolo v8'\")"
   ]
  },
  {
   "cell_type": "code",
   "execution_count": null,
   "metadata": {},
   "outputs": [],
   "source": [
    "## Query recipes with Quantization=None and width>512 with recipes sorted according to 'od_inf_rate' i.e. on device inference rate per ms.\n",
    "df.query(\"quantization=='none' and width > 512\").sort_values('od_inf_rate')"
   ]
  },
  {
   "cell_type": "code",
   "execution_count": null,
   "metadata": {},
   "outputs": [],
   "source": [
    "## Query the best performing recipe based on 'if_task_metric'.\n",
    "global_max = df['if_task_metric'].max()\n",
    "print(\"The best performance (mAP) = \", global_max)"
   ]
  },
  {
   "cell_type": "code",
   "execution_count": null,
   "metadata": {},
   "outputs": [],
   "source": [
    "## Sorting your recipes based on 'if_task_metric'\n",
    "sub_df = df.sort_values(by=['if_task_metric'], ascending = False)\n",
    "sub_df"
   ]
  },
  {
   "cell_type": "code",
   "execution_count": null,
   "metadata": {},
   "outputs": [],
   "source": [
    "## Sorting your recipes based on 'od_inf_rate' for specific device and quantization.\n",
    "sub_df2 = df.query(\"device=='cuda:A4500' and quantization=='none'\").sort_values(by=['od_inf_rate'], ascending = True)\n",
    "sub_df2"
   ]
  },
  {
   "cell_type": "code",
   "execution_count": null,
   "metadata": {},
   "outputs": [],
   "source": [
    "## Now you can filter the above sub_df2 with the acceptable task_metric range and inference rate. \n",
    "sub_df3 = sub_df2.query('if_task_metric > 0.18 and if_task_metric < 0.21 and od_inf_rate < 12')\n",
    "sub_df3"
   ]
  },
  {
   "attachments": {},
   "cell_type": "markdown",
   "metadata": {},
   "source": [
    "## Getting a recipe by selecting from a table and converting the SPPR.\n",
    "\n",
    "Loading it from an SPPR - An SPPR is a serialized and portable representation of a recipe that is ready to execute. You can replace your dataset into the SPPR and start your training."
   ]
  },
  {
   "cell_type": "code",
   "execution_count": null,
   "metadata": {},
   "outputs": [],
   "source": [
    "from leip_recipe_designer.create import from_sppr\n",
    "recipe = from_sppr(sub_df.query(\"device == 'cuda:A4500'\").iloc[0]['sppr'])\n",
    "recipe.describe()"
   ]
  },
  {
   "cell_type": "code",
   "execution_count": null,
   "metadata": {},
   "outputs": [],
   "source": [
    "## Setting up your dataset. (Assuming your dataset is something like below.)\n",
    "\n",
    "###################################################################################################\n",
    "# from leip_recipe_designer.helpers.data import new_pascal_data_generator\n",
    "\n",
    "# road_sign_data = new_pascal_data_generator(pantry=pantry,\n",
    "#                                     root_path=\"your_data_path\",\n",
    "#                                     images_dir=\"images\",\n",
    "#                                     annotations_dir=\"annotations\",\n",
    "#                                     nclasses=4,\n",
    "#                                     is_split=False,\n",
    "#                                     trainval_split_ratio=0.80,\n",
    "#                                     dataset_name=\"road-sign-data\"\n",
    "#                                     )\n",
    "###################################################################################################"
   ]
  },
  {
   "cell_type": "code",
   "execution_count": null,
   "metadata": {},
   "outputs": [],
   "source": [
    "## Replacing it with the selected SPPR\n",
    "\n",
    "###################################################################################################\n",
    "# from leip_recipe_designer.helpers.data import replace_data_generator\n",
    "# replace_data_generator(recipe=recipe, data=road_sign_data)\n",
    "###################################################################################################"
   ]
  }
 ],
 "metadata": {
  "kernelspec": {
   "display_name": "intro7",
   "language": "python",
   "name": "python3"
  },
  "language_info": {
   "codemirror_mode": {
    "name": "ipython",
    "version": 3
   },
   "file_extension": ".py",
   "mimetype": "text/x-python",
   "name": "python",
   "nbconvert_exporter": "python",
   "pygments_lexer": "ipython3",
   "version": "3.8.18 (default, Sep 11 2023, 13:40:15) \n[GCC 11.2.0]"
  },
  "orig_nbformat": 4,
  "vscode": {
   "interpreter": {
    "hash": "b0e986a31a9c4c86b2783356602875fc586361bf2735217a7c3aef2df6fb5ce6"
   }
  }
 },
 "nbformat": 4,
 "nbformat_minor": 2
}
